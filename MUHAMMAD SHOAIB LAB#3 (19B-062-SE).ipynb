{
 "cells": [
  {
   "cell_type": "code",
   "execution_count": 3,
   "metadata": {
    "collapsed": false
   },
   "outputs": [
    {
     "name": "stdout",
     "output_type": "stream",
     "text": [
      "Enter the radius (in meter):0.5\n",
      "Enter angular velocity (in rad/sec):10\n",
      "5.0 m/s\n",
      "Enter the radius (in meter):1\n",
      "Enter angular velocity (in rad/sec):10\n",
      "10.0 m/s\n",
      "Enter the radius (in meter):2\n",
      "Enter angular velocity (in rad/sec):10\n",
      "20.0 m/s\n"
     ]
    }
   ],
   "source": [
    "# Programming Exercise 01\n",
    "\n",
    "# part a\n",
    "rad = float(input('Enter the radius (in meter):'))\n",
    "ang_velocity = float(input('Enter angular velocity (in rad/sec):'))\n",
    "linear_velocity = (rad * ang_velocity)\n",
    "print(linear_velocity , \"m/s\")\n",
    "\n",
    "# part b\n",
    "rad = float(input('Enter the radius (in meter):'))\n",
    "ang_velocity = float(input('Enter angular velocity (in rad/sec):'))\n",
    "linear_velocity = (rad * ang_velocity)\n",
    "print(linear_velocity , \"m/s\")\n",
    "\n",
    "# part c\n",
    "rad = float(input('Enter the radius (in meter):'))\n",
    "ang_velocity = float(input('Enter angular velocity (in rad/sec):'))\n",
    "linear_velocity = (rad * ang_velocity)\n",
    "print(linear_velocity , \"m/s\")"
   ]
  },
  {
   "cell_type": "code",
   "execution_count": 5,
   "metadata": {
    "collapsed": false
   },
   "outputs": [
    {
     "name": "stdout",
     "output_type": "stream",
     "text": [
      "Enter radius (in meter):0.05\n",
      "Enter angular velocity (in rad/sec):523.3\n",
      "26.165 m/s\n",
      "Enter radius (in meter):0.1\n",
      "Enter angular velocity (in rad/sec):523.3\n",
      "52.33 m/s\n"
     ]
    }
   ],
   "source": [
    "# Programming Exercise 02\n",
    "\n",
    "# part a\n",
    "rad = float(input('Enter radius (in meter):'))\n",
    "ang_velocity = float(input('Enter angular velocity (in rad/sec):'))\n",
    "linear_velocity = (rad * ang_velocity)\n",
    "print(linear_velocity, \"m/s\")\n",
    "\n",
    "# part b\n",
    "rad = float(input('Enter radius (in meter):'))\n",
    "ang_velocity = float(input('Enter angular velocity (in rad/sec):'))\n",
    "linear_velocity = (rad * ang_velocity)\n",
    "print(linear_velocity, \"m/s\")"
   ]
  },
  {
   "cell_type": "code",
   "execution_count": 7,
   "metadata": {
    "collapsed": false
   },
   "outputs": [
    {
     "name": "stdout",
     "output_type": "stream",
     "text": [
      "Enter radius (in meter):0.3\n",
      "Enter linear velocity (in m/s):10\n",
      "33.333333333333336 rad/sec\n"
     ]
    }
   ],
   "source": [
    "# Programming Exercise 03\n",
    "\n",
    "rad = float(input('Enter radius (in meter):'))\n",
    "linear_velocity = float(input('Enter linear velocity (in m/s):'))\n",
    "ang_velocity = (linear_velocity/rad)\n",
    "print(ang_velocity, \"rad/sec\")"
   ]
  },
  {
   "cell_type": "code",
   "execution_count": 8,
   "metadata": {
    "collapsed": false
   },
   "outputs": [
    {
     "name": "stdout",
     "output_type": "stream",
     "text": [
      "Enter radius (in meter):0.25\n",
      "Enter linear velocity (in m/s):10\n",
      "40.0 rad/sec\n"
     ]
    }
   ],
   "source": [
    "# Programming Exercise 04\n",
    "\n",
    "rad = float(input('Enter radius (in meter):'))\n",
    "linear_velocity = float(input('Enter linear velocity (in m/s):'))\n",
    "ang_velocity = (linear_velocity/rad)\n",
    "print(ang_velocity, \"rad/sec\")"
   ]
  },
  {
   "cell_type": "code",
   "execution_count": 9,
   "metadata": {
    "collapsed": false
   },
   "outputs": [
    {
     "name": "stdout",
     "output_type": "stream",
     "text": [
      "Enter the radius (in meter):0.2\n",
      "Enter angular velocity (in rad/sec):12.56\n",
      "2.5120000000000005 m/s\n",
      "Enter time(in sec):10\n",
      "25.120000000000005 meter\n"
     ]
    }
   ],
   "source": [
    "# Programming Exercise 05\n",
    "\n",
    "rad = float(input('Enter the radius (in meter):'))\n",
    "ang_velocity = float(input('Enter angular velocity (in rad/sec):'))\n",
    "linear_velocity = (rad * ang_velocity)\n",
    "print(linear_velocity , \"m/s\")\n",
    "\n",
    "time = float(input('Enter time(in sec):'))\n",
    "distance = (linear_velocity * time)\n",
    "print(distance, \"meter\")\n"
   ]
  },
  {
   "cell_type": "code",
   "execution_count": 11,
   "metadata": {
    "collapsed": false
   },
   "outputs": [
    {
     "name": "stdout",
     "output_type": "stream",
     "text": [
      "Enter velocity (in mile/hour):50\n",
      "Enter acceleration (in miles/hours**2):10\n",
      "Enter time (in hours):2\n",
      "25.120000000000005 miles\n"
     ]
    }
   ],
   "source": [
    "# Proamming Exercise 06\n",
    "\n",
    "velocity = float(input('Enter velocity (in mile/hour):'))\n",
    "acc = float(input('Enter acceleration (in miles/hours**2):'))\n",
    "time = float(input('Enter time (in hours):'))\n",
    "diatance = (velocity * time)+ 1/2 * (acc*time**2)\n",
    "print(distance, \"miles\")"
   ]
  },
  {
   "cell_type": "code",
   "execution_count": 1,
   "metadata": {
    "collapsed": false
   },
   "outputs": [
    {
     "name": "stdout",
     "output_type": "stream",
     "text": [
      "Enter height (in feet):100\n",
      "Enter initial velocity: 0\n",
      "6400.0 ft/sec\n"
     ]
    }
   ],
   "source": [
    "# Proamming Exercise 07\n",
    "\n",
    "height = float(input('Enter height (in feet):'))\n",
    "g = (32)\n",
    "u = float(input('Enter initial velocity: '))\n",
    "v = (2 * g * height) + (u**2)\n",
    "print (v, \"ft/sec\")"
   ]
  }
 ],
 "metadata": {
  "anaconda-cloud": {},
  "kernelspec": {
   "display_name": "Python [Anaconda3]",
   "language": "python",
   "name": "Python [Anaconda3]"
  },
  "language_info": {
   "codemirror_mode": {
    "name": "ipython",
    "version": 3
   },
   "file_extension": ".py",
   "mimetype": "text/x-python",
   "name": "python",
   "nbconvert_exporter": "python",
   "pygments_lexer": "ipython3",
   "version": "3.5.2"
  }
 },
 "nbformat": 4,
 "nbformat_minor": 2
}
