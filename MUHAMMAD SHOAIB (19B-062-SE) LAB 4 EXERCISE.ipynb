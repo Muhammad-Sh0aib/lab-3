{
 "cells": [
  {
   "cell_type": "code",
   "execution_count": 29,
   "metadata": {},
   "outputs": [
    {
     "name": "stdout",
     "output_type": "stream",
     "text": [
      "(-2.3431457505076194+0j)\n",
      "(-13.65685424949238+0j)\n"
     ]
    }
   ],
   "source": [
    "# Exercise 1\n",
    "\n",
    "import cmath\n",
    "a=2\n",
    "b=8\n",
    "c=4\n",
    "web=(b**2)-(4*a*c)\n",
    "x1=(-b+cmath.sqrt(web)/2*a)\n",
    "x2=(-b-cmath.sqrt(web)/2*a)\n",
    "print(x1)\n",
    "print(x2)"
   ]
  },
  {
   "cell_type": "code",
   "execution_count": 7,
   "metadata": {},
   "outputs": [
    {
     "name": "stdout",
     "output_type": "stream",
     "text": [
      "Your string in palindrome\n"
     ]
    }
   ],
   "source": [
    "# Exercise 3\n",
    "\n",
    "\n",
    "str1 = (\"Civic\")\n",
    "str1 = str1.casefold()\n",
    "stringR = reversed(str1)\n",
    "if list(str1)==list(stringR):\n",
    "    print(\"Your string in palindrome\")\n",
    "else:\n",
    "    print(\"Your string is not palindrome\")"
   ]
  },
  {
   "cell_type": "code",
   "execution_count": 25,
   "metadata": {},
   "outputs": [
    {
     "name": "stdout",
     "output_type": "stream",
     "text": [
      "Name: MUHAMMAD SHOAIB\n",
      "Father Name: BABAR ABDUL QAYYUM\n",
      "Roll No: 366698\n",
      "Math: 94\n",
      "Chemistry: 90\n",
      "Physics: 88\n",
      "Urdu: 95\n",
      "Islamiat: 87\n",
      "Great is: A+\n",
      "Percentage: 90.8 %\n"
     ]
    }
   ],
   "source": [
    "# Exercise 4\n",
    "\n",
    "name=(\"MUHAMMAD SHOAIB\")\n",
    "father_name=(\"BABAR ABDUL QAYYUM\")\n",
    "roll_no=(\"366698\")\n",
    "sub_1=(94)\n",
    "sub_2=(90)\n",
    "sub_3=(88)\n",
    "sub_4=(95)\n",
    "sub_5=(87)\n",
    "Total_Marks=(sub_1+sub_2+sub_3+sub_4+sub_5)\n",
    "percentage=((Total_Marks/500)*100)\n",
    "print(\"Name:\",name)\n",
    "print(\"Father Name:\",father_name)\n",
    "print(\"Roll No:\",roll_no)\n",
    "print(\"Math:\",sub_1)\n",
    "print(\"Chemistry:\",sub_2)\n",
    "print(\"Physics:\",sub_3)\n",
    "print(\"Urdu:\",sub_4)\n",
    "print(\"Islamiat:\",sub_5)\n",
    "if percentage >79:\n",
    "    print(\"Great is: A+\")\n",
    "else:\n",
    "    print(\"Great is:A\")\n",
    "print(\"Percentage:\",percentage,'%')"
   ]
  },
  {
   "cell_type": "code",
   "execution_count": 17,
   "metadata": {},
   "outputs": [
    {
     "name": "stdout",
     "output_type": "stream",
     "text": [
      "[45, 7, 63]\n",
      "[11, 42, 15]\n",
      "[22, 33, 40]\n"
     ]
    }
   ],
   "source": [
    "# Exercise 7\n",
    "\n",
    "\n",
    "x=[[9,1,7],[1,6,15],[2,11,8]]\n",
    "y=[[5,7,9],[11,7,1],[11,3,5]]\n",
    "result=[[0,0,0],[0,0,0],[0,0,0]]\n",
    "for i in range(len(x)):\n",
    "    for j in range(len(x[0])):\n",
    "        result[i][j]=x[i][j]*y[i][j]\n",
    "for r in result:\n",
    "    print(r)"
   ]
  },
  {
   "cell_type": "code",
   "execution_count": 13,
   "metadata": {},
   "outputs": [
    {
     "name": "stdout",
     "output_type": "stream",
     "text": [
      "Enter value of first term:2\n",
      "Enter value of common difference:4\n",
      "Enter the number of terms:18\n",
      "70\n"
     ]
    }
   ],
   "source": [
    "# Exercise 2\n",
    "\n",
    "a = int(input('Enter value of first term:'))\n",
    "d = int(input('Enter value of common difference:'))\n",
    "n = int(input('Enter the number of terms:'))\n",
    "T=a+(n-1)*d\n",
    "print(T)"
   ]
  },
  {
   "cell_type": "code",
   "execution_count": 14,
   "metadata": {},
   "outputs": [
    {
     "name": "stdout",
     "output_type": "stream",
     "text": [
      "1 2 3 4 5 \n",
      "2 4 6 8 10 \n",
      "3 6 9 12 15 \n",
      "4 8 12 16 20 \n",
      "5 10 15 20 25 \n"
     ]
    }
   ],
   "source": [
    "# Exercise 5\n",
    "\n",
    "for i in range (1,6):\n",
    "    for j in range (1,6):\n",
    "        k=i*j\n",
    "        print(k,end=(' '))\n",
    "    print(\"\")"
   ]
  },
  {
   "cell_type": "code",
   "execution_count": 15,
   "metadata": {},
   "outputs": [
    {
     "name": "stdout",
     "output_type": "stream",
     "text": [
      "[9, 17, 14]\n",
      "[16, 15, 12]\n",
      "[17, 8, 7]\n"
     ]
    }
   ],
   "source": [
    "# Exercise 6\n",
    "\n",
    "\n",
    "x=[[4,10,5],[5,8,11],[6,5,2]]\n",
    "y=[[5,7,9],[11,7,1],[11,3,5]]\n",
    "result=[[0,0,0],[0,0,0],[0,0,0]]\n",
    "for i in range(len(x)):\n",
    "    for j in range(len(x[0])):\n",
    "        result[i][j]=x[i][j]+y[i][j]\n",
    "for r in result:\n",
    "    print(r)"
   ]
  },
  {
   "cell_type": "code",
   "execution_count": null,
   "metadata": {},
   "outputs": [],
   "source": []
  }
 ],
 "metadata": {
  "kernelspec": {
   "display_name": "Python 3",
   "language": "python",
   "name": "python3"
  },
  "language_info": {
   "codemirror_mode": {
    "name": "ipython",
    "version": 3
   },
   "file_extension": ".py",
   "mimetype": "text/x-python",
   "name": "python",
   "nbconvert_exporter": "python",
   "pygments_lexer": "ipython3",
   "version": "3.7.4"
  }
 },
 "nbformat": 4,
 "nbformat_minor": 2
}
