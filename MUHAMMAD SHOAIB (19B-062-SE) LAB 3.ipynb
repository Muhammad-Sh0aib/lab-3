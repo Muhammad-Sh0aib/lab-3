{
 "cells": [
  {
   "cell_type": "code",
   "execution_count": 6,
   "metadata": {},
   "outputs": [
    {
     "name": "stdout",
     "output_type": "stream",
     "text": [
      "Sum is: 32\n",
      "Difference is: -12\n",
      "Division is: 220\n",
      "Division is: 0.45454545454545453\n",
      "Integer Division: 0\n",
      "Raised to the power: 10000000000000000000000\n",
      "Reminder is: 10\n"
     ]
    }
   ],
   "source": [
    "# PROGRAM 1 \n",
    "# MATH OPERATION\n",
    "\n",
    "a = 10\n",
    "b = 22\n",
    "\n",
    "# Using sum operation\n",
    "print(\"Sum is:\",a+b)\n",
    "\n",
    "# Using subtract operation\n",
    "print(\"Difference is:\",a-b)\n",
    "\n",
    "# Using multipulation operation\n",
    "print(\"Division is:\",a*b)\n",
    "\n",
    "# Using dividion opertaion\n",
    "print(\"Division is:\",a/b)\n",
    "\n",
    "# Using integer dividion opertaion\n",
    "print(\"Integer Division:\",a//b)\n",
    "\n",
    "# Using power operation\n",
    "print(\"Raised to the power:\",a**b)\n",
    "\n",
    "# using modulo operation\n",
    "print(\"Reminder is:\",a%b)"
   ]
  },
  {
   "cell_type": "code",
   "execution_count": 10,
   "metadata": {},
   "outputs": [
    {
     "name": "stdout",
     "output_type": "stream",
     "text": [
      "8\n",
      "2\n",
      "15\n",
      "1.6666666666666667\n",
      "2\n",
      "1\n",
      "125\n",
      "1\n",
      "7\n",
      "6\n",
      "0\n",
      "40\n"
     ]
    }
   ],
   "source": [
    "# Program 2\n",
    "# Use operation\n",
    "\n",
    "x=5\n",
    "x+=3\n",
    "print(x)\n",
    "\n",
    "x=5\n",
    "x-=3\n",
    "print(x)\n",
    "\n",
    "x=5\n",
    "x*=3\n",
    "print(x)\n",
    "\n",
    "x=5\n",
    "x/=3\n",
    "print(x)\n",
    "\n",
    "x=5\n",
    "x %=3\n",
    "print(x)\n",
    "\n",
    "x=5\n",
    "x//=3\n",
    "print(x)\n",
    "\n",
    "x=5\n",
    "x**=3\n",
    "print(x)\n",
    "\n",
    "x=5\n",
    "x&=3\n",
    "print(x)\n",
    "\n",
    "x=5\n",
    "x|=3\n",
    "print(x)\n",
    "\n",
    "x=5\n",
    "x^=3\n",
    "print(x)\n",
    "\n",
    "x=5\n",
    "x>>=3\n",
    "print(x)\n",
    "\n",
    "x=5\n",
    "x<<=3\n",
    "print(x)"
   ]
  },
  {
   "cell_type": "code",
   "execution_count": 11,
   "metadata": {},
   "outputs": [
    {
     "name": "stdout",
     "output_type": "stream",
     "text": [
      "X is equal to Y: False\n",
      "X is not equal to Y: True\n",
      "X is greater than Y: True\n",
      "X is less than Y: False\n",
      "X is gearter than or equal to Y: True\n",
      "X is less than or equal to Y: False\n"
     ]
    }
   ],
   "source": [
    "# Program 3\n",
    "# Comparison operation\n",
    "\n",
    "x=20\n",
    "y=15\n",
    "\n",
    "print(\"X is equal to Y:\",x==y)\n",
    "print(\"X is not equal to Y:\",x!=y)\n",
    "print(\"X is greater than Y:\",x>y)\n",
    "print(\"X is less than Y:\",x<y)\n",
    "print(\"X is gearter than or equal to Y:\",x>=y)\n",
    "print(\"X is less than or equal to Y:\",x<=y)"
   ]
  },
  {
   "cell_type": "code",
   "execution_count": 12,
   "metadata": {},
   "outputs": [
    {
     "name": "stdout",
     "output_type": "stream",
     "text": [
      "True\n",
      "True\n",
      "False\n"
     ]
    }
   ],
   "source": [
    "# Program 4\n",
    "# Using logical operation\n",
    "\n",
    "x=15\n",
    "print(x > 13 and x < 20)\n",
    "\n",
    "x=25\n",
    "print(x > 23 or x < 24)\n",
    "\n",
    "x=35\n",
    "print(not(x > 33 and x <40))"
   ]
  },
  {
   "cell_type": "code",
   "execution_count": 13,
   "metadata": {},
   "outputs": [
    {
     "name": "stdout",
     "output_type": "stream",
     "text": [
      "True\n",
      "False\n",
      "True\n"
     ]
    }
   ],
   "source": [
    "# Program 5\n",
    "# identity operation\n",
    "\n",
    "x=[\"ahmed\",\"bashir\"]\n",
    "y=[\"ahmed\",\"bashir\"]\n",
    "z=x\n",
    "\n",
    "print(x is z)\n",
    "print(x is y)\n",
    "print(x == y)"
   ]
  },
  {
   "cell_type": "code",
   "execution_count": 14,
   "metadata": {},
   "outputs": [
    {
     "ename": "SyntaxError",
     "evalue": "invalid syntax (<ipython-input-14-4b5fedd16f43>, line 10)",
     "output_type": "error",
     "traceback": [
      "\u001b[1;36m  File \u001b[1;32m\"<ipython-input-14-4b5fedd16f43>\"\u001b[1;36m, line \u001b[1;32m10\u001b[0m\n\u001b[1;33m    print(x <> y)\u001b[0m\n\u001b[1;37m             ^\u001b[0m\n\u001b[1;31mSyntaxError\u001b[0m\u001b[1;31m:\u001b[0m invalid syntax\n"
     ]
    }
   ],
   "source": [
    "# Program 6\n",
    "# not identity operation\n",
    "\n",
    "x=[\"ahmed\",\"bashir\"]\n",
    "y=[\"ahmed\",\"bashir\"]\n",
    "z=x\n",
    "\n",
    "print(x is not z)\n",
    "print(x is not y)\n",
    "print(x <> y)"
   ]
  },
  {
   "cell_type": "code",
   "execution_count": 15,
   "metadata": {},
   "outputs": [
    {
     "name": "stdout",
     "output_type": "stream",
     "text": [
      "False\n",
      "True\n",
      "False\n",
      "False\n"
     ]
    }
   ],
   "source": [
    "# Program 6\n",
    "# not identity operation\n",
    "\n",
    "x=[\"ahmed\",\"bashir\"]\n",
    "y=[\"ahmed\",\"bashir\"]\n",
    "z=x\n",
    "\n",
    "print(x is not z)\n",
    "print(x is not y)\n",
    "print(x < y)\n",
    "print(x > y)"
   ]
  },
  {
   "cell_type": "code",
   "execution_count": 16,
   "metadata": {},
   "outputs": [
    {
     "name": "stdout",
     "output_type": "stream",
     "text": [
      "True\n"
     ]
    }
   ],
   "source": [
    "# Program 7 \n",
    "# membership operation\n",
    "\n",
    "x=[\"wasim\",\"lubaid\",\"shahroz\",\"usman\",\"faisal\",\"farhan\"]\n",
    "print(\"faisal\" in x)"
   ]
  },
  {
   "cell_type": "code",
   "execution_count": 17,
   "metadata": {},
   "outputs": [
    {
     "name": "stdout",
     "output_type": "stream",
     "text": [
      "False\n"
     ]
    }
   ],
   "source": [
    "# Program 8\n",
    "# not membership operation\n",
    "\n",
    "x=[\"wasim\",\"lubaid\",\"shahroz\",\"usman\",\"faisal\",\"farhan\"]\n",
    "print(\"faisal\" not in x)"
   ]
  },
  {
   "cell_type": "code",
   "execution_count": 18,
   "metadata": {},
   "outputs": [
    {
     "name": "stdout",
     "output_type": "stream",
     "text": [
      "Given me a velocity to fire at(in m/s):11\n",
      "Given ma an angle to fire at:30\n",
      "Given ma how far away you are from the structure:24\n",
      "Given ma the height of the structure(in meter):18\n"
     ]
    },
    {
     "ename": "NameError",
     "evalue": "name 'times' is not defined",
     "output_type": "error",
     "traceback": [
      "\u001b[1;31m---------------------------------------------------------------------------\u001b[0m",
      "\u001b[1;31mNameError\u001b[0m                                 Traceback (most recent call last)",
      "\u001b[1;32m<ipython-input-18-a5734ff7a961>\u001b[0m in \u001b[0;36m<module>\u001b[1;34m()\u001b[0m\n\u001b[0;32m     20\u001b[0m \u001b[0mtime\u001b[0m\u001b[1;33m=\u001b[0m\u001b[0mdistance\u001b[0m\u001b[1;33m/\u001b[0m\u001b[1;33m(\u001b[0m\u001b[0mvelocity\u001b[0m \u001b[1;33m*\u001b[0m \u001b[0mx\u001b[0m\u001b[1;33m)\u001b[0m\u001b[1;33m\u001b[0m\u001b[0m\n\u001b[0;32m     21\u001b[0m \u001b[0mvx\u001b[0m\u001b[1;33m=\u001b[0m\u001b[0mx\u001b[0m\u001b[1;33m\u001b[0m\u001b[0m\n\u001b[1;32m---> 22\u001b[1;33m \u001b[0mvy\u001b[0m\u001b[1;33m=\u001b[0m\u001b[0my\u001b[0m \u001b[1;33m+\u001b[0m \u001b[1;33m(\u001b[0m\u001b[1;33m-\u001b[0m\u001b[1;36m9.8\u001b[0m \u001b[1;33m*\u001b[0m \u001b[0mtimes\u001b[0m\u001b[1;33m)\u001b[0m\u001b[1;33m\u001b[0m\u001b[0m\n\u001b[0m\u001b[0;32m     23\u001b[0m \u001b[0mfinalVelocity\u001b[0m\u001b[1;33m=\u001b[0m\u001b[0mmath\u001b[0m\u001b[1;33m.\u001b[0m\u001b[0msqrt\u001b[0m\u001b[1;33m(\u001b[0m\u001b[1;33m(\u001b[0m\u001b[0mvx\u001b[0m\u001b[1;33m**\u001b[0m\u001b[1;36m2\u001b[0m\u001b[1;33m)\u001b[0m\u001b[1;33m+\u001b[0m\u001b[1;33m(\u001b[0m\u001b[0mvy\u001b[0m\u001b[1;33m**\u001b[0m\u001b[1;36m2\u001b[0m\u001b[1;33m)\u001b[0m\u001b[1;33m)\u001b[0m\u001b[1;33m\u001b[0m\u001b[0m\n",
      "\u001b[1;31mNameError\u001b[0m: name 'times' is not defined"
     ]
    }
   ],
   "source": [
    "# Program 9\n",
    "\n",
    "import math\n",
    "#User inputs\n",
    "velocity=float(input('Given me a velocity to fire at(in m/s):'))\n",
    "angle=float(input('Given ma an angle to fire at:'))\n",
    "distance=float(input('Given ma how far away you are from the structure:'))\n",
    "height=float(input('Given ma the height of the structure(in meter):'))\n",
    "sligshot=5 #Height of slingshot in meters\n",
    "gravit=9.8 #Earth gravity\n",
    "\n",
    "# Converting angles to radians\n",
    "angleRad=math.radians(angle)\n",
    "\n",
    "# Computing our x and y coordinate\n",
    "x=math.cos(angleRad)\n",
    "y=math.sin(angleRad)\n",
    "\n",
    "# Calculations\n",
    "time=distance/(velocity * x)\n",
    "vx=x\n",
    "vy=y + (-9.8 * times)\n",
    "finalVelocity=math.sqrt((vx**2)+(vy**2))"
   ]
  },
  {
   "cell_type": "code",
   "execution_count": 29,
   "metadata": {},
   "outputs": [
    {
     "name": "stdout",
     "output_type": "stream",
     "text": [
      "Given me a velocity to fire at(in m/s):11\n",
      "Given ma an angle to fire at:30\n",
      "Given ma how far away you are from the structure:24\n",
      "Given ma the height of the structure(in meter):30\n",
      "11.0\n",
      "30.0\n",
      "24.0\n",
      "30.0\n",
      "5\n",
      "9.8\n",
      "0.5235987755982988\n",
      "0.8660254037844387\n",
      "0.49999999999999994\n",
      "2.519346629191094\n",
      "0.8660254037844387\n",
      "-24.189596966072724\n",
      "24.205094533610787\n"
     ]
    }
   ],
   "source": [
    "# Program 9\n",
    "\n",
    "import math\n",
    "#User inputs\n",
    "velocity=float(input('Given me a velocity to fire at(in m/s):'))\n",
    "angle=float(input('Given ma an angle to fire at:'))\n",
    "distance=float(input('Given ma how far away you are from the structure:'))\n",
    "height=float(input('Given ma the height of the structure(in meter):'))\n",
    "sligshot=5 #Height of slingshot in meters\n",
    "gravity=9.8 #Earth gravity\n",
    "\n",
    "# Converting angles to radians\n",
    "angleRad=math.radians(angle)\n",
    "\n",
    "# Computing our x and y coordinate\n",
    "x=math.cos(angleRad)\n",
    "y=math.sin(angleRad)\n",
    "\n",
    "# Calculations\n",
    "time=distance/(velocity * x)\n",
    "vx=x\n",
    "vy=y+(-9.8 * time)\n",
    "finalVelocity=math.sqrt((vx**2)+(vy**2))\n",
    "\n",
    "print(velocity)\n",
    "print(angle)\n",
    "print(distance)\n",
    "print(height)\n",
    "print(sligshot)\n",
    "print(gravity)\n",
    "\n",
    "print(angleRad)\n",
    "\n",
    "print(x)\n",
    "print(y)\n",
    "\n",
    "print(time)\n",
    "print(vx)\n",
    "print(vy)\n",
    "print(finalVelocity)"
   ]
  },
  {
   "cell_type": "code",
   "execution_count": null,
   "metadata": {},
   "outputs": [],
   "source": []
  }
 ],
 "metadata": {
  "kernelspec": {
   "display_name": "Python 3",
   "language": "python",
   "name": "python3"
  },
  "language_info": {
   "codemirror_mode": {
    "name": "ipython",
    "version": 3
   },
   "file_extension": ".py",
   "mimetype": "text/x-python",
   "name": "python",
   "nbconvert_exporter": "python",
   "pygments_lexer": "ipython3",
   "version": "3.6.5"
  }
 },
 "nbformat": 4,
 "nbformat_minor": 2
}
