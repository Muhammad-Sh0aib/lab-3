{
 "cells": [
  {
   "cell_type": "markdown",
   "metadata": {},
   "source": [
    "# Muhammad shoaib (19b_062_se) lab#5 Exercise"
   ]
  },
  {
   "cell_type": "code",
   "execution_count": 28,
   "metadata": {},
   "outputs": [
    {
     "name": "stdout",
     "output_type": "stream",
     "text": [
      "Enter the value of radius: 4\n",
      "Enter the value of height: 5\n",
      "area of the cylinder is  226.1946710584651\n",
      "volume of the cylinder is  251.32741228718345\n"
     ]
    }
   ],
   "source": [
    "from math import pi\n",
    "r = int(input(\"Enter the value of radius: \"))\n",
    "h = int(input(\"Enter the value of height: \"))\n",
    "\n",
    "def area(pi,r,h):\n",
    "    area = 2*pi*r*h+2*pi*r**2\n",
    "    return area\n",
    "print(\"area of the cylinder is \",area(pi,r,h))\n",
    "\n",
    "def volume(pi,r,h):\n",
    "    volume = pi*r**2*h\n",
    "    return volume\n",
    "print(\"volume of the cylinder is \",volume(pi,r,h))"
   ]
  },
  {
   "cell_type": "code",
   "execution_count": 8,
   "metadata": {},
   "outputs": [
    {
     "name": "stdout",
     "output_type": "stream",
     "text": [
      "Enter the value of length: 5\n",
      "Enter the value of breadth: 6\n",
      "Enter the value of height: 3\n",
      "area of the cylinder is  30\n",
      "volume of the cylinder is  90\n"
     ]
    }
   ],
   "source": [
    "l = int(input(\"Enter the value of length: \"))\n",
    "b = int(input(\"Enter the value of breadth: \"))\n",
    "h = int(input(\"Enter the value of height: \"))\n",
    "def area(l,b):\n",
    "    area = l*b\n",
    "    return area\n",
    "print(\"area of the cylinder is \",area(l,b))\n",
    "\n",
    "def volume(l,b,h):\n",
    "    volume = l*b*h\n",
    "    return volume\n",
    "print(\"volume of the cylinder is \",volume(l,b,h))"
   ]
  },
  {
   "cell_type": "code",
   "execution_count": 2,
   "metadata": {},
   "outputs": [
    {
     "name": "stdout",
     "output_type": "stream",
     "text": [
      "Enter the first term: 3\n",
      "Enter the common difference: 6\n",
      "Enter the number of term: 34\n",
      "201\n",
      "Do you want to continue: yes\n",
      "Enter the first term: 4\n",
      "Enter the common difference: 8\n",
      "Enter the number of term: 68\n",
      "540\n"
     ]
    }
   ],
   "source": [
    "def sequence():\n",
    "    a = int(input(\"Enter the first term: \"))\n",
    "    d = int(input(\"Enter the common difference: \"))\n",
    "    n = int(input(\"Enter the number of term: \"))\n",
    "    T = a+(n-1)*d\n",
    "    print(T)\n",
    "    if n>0:\n",
    "        ask = input(\"Do you want to continue: \")\n",
    "        if ask == \"yes\":\n",
    "            a = int(input(\"Enter the first term: \"))\n",
    "            d = int(input(\"Enter the common difference: \"))\n",
    "            n = int(input(\"Enter the number of term: \"))\n",
    "            T = a+(n-1)*d\n",
    "            print(T)\n",
    "sequence()"
   ]
  },
  {
   "cell_type": "code",
   "execution_count": 2,
   "metadata": {},
   "outputs": [
    {
     "name": "stdout",
     "output_type": "stream",
     "text": [
      "Enter name: civic\n",
      "your string is palindrome\n"
     ]
    }
   ],
   "source": [
    "name = input(\"Enter name: \")\n",
    "name_1 = name.casefold()\n",
    "def palindrome(name_1):\n",
    "    R = reversed(name_1)\n",
    "    if list(name_1)==list(R):\n",
    "        return \"your string is palindrome\"\n",
    "    else:\n",
    "        return \"your string is not palindrome\"\n",
    "print(palindrome(name_1))"
   ]
  },
  {
   "cell_type": "code",
   "execution_count": 3,
   "metadata": {},
   "outputs": [
    {
     "name": "stdout",
     "output_type": "stream",
     "text": [
      "Enter the initial velocity: 6\n",
      "Enter the acceleration: 7\n",
      "Enter the time: 8\n",
      "Final velocity is: 62 m/s\n",
      "\n",
      "\n",
      "Enter the initial velocity: 54\n",
      "Enter the acceleration: 6\n",
      "Enter the time: 8\n",
      "The distance is: 624.0 m\n",
      "\n",
      "\n",
      "Enter the initial velocity: 56\n",
      "Enter the final velocity: 4\n",
      "Enter the distance: 9\n",
      "The acceleration is: -173.33333333333334 m/s.sq\n",
      "\n",
      "\n"
     ]
    }
   ],
   "source": [
    "def first_law():\n",
    "    v1 = int(input(\"Enter the initial velocity: \"))\n",
    "    a = int(input(\"Enter the acceleration: \"))\n",
    "    t = int(input(\"Enter the time: \"))\n",
    "    v2 = v1+a*t\n",
    "    print(\"Final velocity is:\", v2 ,'m/s')\n",
    "first_law()\n",
    "print(\"\\n\")\n",
    "\n",
    "def second_law():\n",
    "    v1 = int(input(\"Enter the initial velocity: \"))\n",
    "    a = int(input(\"Enter the acceleration: \"))\n",
    "    t = int(input(\"Enter the time: \"))\n",
    "    distance = (v1*t)+1/2*(a*t**2)\n",
    "    print(\"The distance is:\",distance,'m')\n",
    "second_law()\n",
    "print(\"\\n\")\n",
    "\n",
    "def third_law():\n",
    "    v1 = int(input(\"Enter the initial velocity: \"))\n",
    "    v2 = int(input(\"Enter the final velocity: \"))\n",
    "    s = int(input(\"Enter the distance: \"))\n",
    "    a = (v2**2-v1**2)/(2*s)\n",
    "    print(\"The acceleration is:\",a,'m/s.sq')\n",
    "third_law()\n",
    "print(\"\\n\")"
   ]
  },
  {
   "cell_type": "code",
   "execution_count": 4,
   "metadata": {},
   "outputs": [
    {
     "name": "stdout",
     "output_type": "stream",
     "text": [
      "Enter the value of velocity: 45\n",
      "Enter the angle: 65\n",
      "Enter the acceleration due to gravity: 9.8\n",
      "The height of projectile is: 84.86339055140922 m\n"
     ]
    }
   ],
   "source": [
    "def projectile():\n",
    "    from math import sin\n",
    "    from math import pi\n",
    "    v = int(input(\"Enter the value of velocity: \"))\n",
    "    angle = int(input(\"Enter the angle: \"))\n",
    "    g = float(input(\"Enter the acceleration due to gravity: \"))\n",
    "    angle_R = (angle*pi)/180\n",
    "    height = (v**2*sin(angle_R)**2)/(2*g)\n",
    "    print(\"The height of projectile is:\",height,'m')\n",
    "projectile()"
   ]
  },
  {
   "cell_type": "code",
   "execution_count": 5,
   "metadata": {},
   "outputs": [
    {
     "name": "stdout",
     "output_type": "stream",
     "text": [
      "Enter your name: SHOAIB\n",
      "BIAOHS\n"
     ]
    }
   ],
   "source": [
    "name = input(\"Enter your name: \")\n",
    "def reverse(name):\n",
    "    reverse_name = name[::-1]\n",
    "    return reverse_name\n",
    "print(reverse(name))"
   ]
  },
  {
   "cell_type": "code",
   "execution_count": 11,
   "metadata": {},
   "outputs": [
    {
     "name": "stdout",
     "output_type": "stream",
     "text": [
      "sin= 0.0\n",
      "cos= 1.0\n",
      "tan= 0.0\n",
      "\t\t\n",
      "sin= 0.8414709848078965\n",
      "cos= 0.5403023058681397\n",
      "tan= 1.5574077246549023\n",
      "\t\t\n",
      "sin= 0.9092974268256817\n",
      "cos= -0.4161468365471424\n",
      "tan= -2.185039863261519\n",
      "\t\t\n",
      "sin= 0.1411200080598672\n",
      "cos= -0.9899924966004454\n",
      "tan= -0.1425465430742778\n",
      "\t\t\n",
      "sin= -0.7568024953079282\n",
      "cos= -0.6536436208636119\n",
      "tan= 1.1578212823495777\n",
      "\t\t\n",
      "sin= -0.9589242746631385\n",
      "cos= 0.28366218546322625\n",
      "tan= -3.380515006246586\n",
      "\t\t\n"
     ]
    }
   ],
   "source": [
    "from math import cos\n",
    "from math import sin\n",
    "from math import tan\n",
    "def trignometry(sin,cos,tan):\n",
    "    for i in range(0,6):\n",
    "        x = sin(i)\n",
    "        y = cos(i)\n",
    "        z = tan(i)\n",
    "        print(str('sin='),x)\n",
    "        print(str('cos='),y)\n",
    "        print(str('tan='),z)\n",
    "        print(\"\\t\\t\")\n",
    "trignometry(sin,cos,tan)"
   ]
  },
  {
   "cell_type": "code",
   "execution_count": 26,
   "metadata": {},
   "outputs": [
    {
     "name": "stdout",
     "output_type": "stream",
     "text": [
      "\t\t\t MARK SHEET\n",
      "\t\t\n",
      "Name: MUHAMMAD SHOAIB\n",
      "Father Name: BABAR ABDUL QAYYUM\n",
      "Roll No: 366698\n",
      "\t\t\n",
      "SUBJECTS \t\t OBTAIN MARKS\n",
      "\t\t\n",
      "Math \t\t\t 94\n",
      "Chemistry \t\t 90\n",
      "Physics \t\t 88\n",
      "Urdu \t\t\t 95\n",
      "Islamiat \t\t 87\n",
      "\t\t\n",
      "Great is: A+\n",
      "Percentage: 90.8 %\n"
     ]
    }
   ],
   "source": [
    "def mark_sheet():\n",
    "    name=(\"MUHAMMAD SHOAIB\")\n",
    "    father_name=(\"BABAR ABDUL QAYYUM\")\n",
    "    roll_no=(\"366698\")\n",
    "    sub_1=(94)\n",
    "    sub_2=(90)\n",
    "    sub_3=(88)\n",
    "    sub_4=(95)\n",
    "    sub_5=(87)\n",
    "    Total_Marks=(sub_1+sub_2+sub_3+sub_4+sub_5)\n",
    "    percentage=((Total_Marks/500)*100)\n",
    "    print(\"\\t\\t\\t\",\"MARK SHEET\")\n",
    "    print(\"\\t\\t\")\n",
    "    print(\"Name:\",name)\n",
    "    print(\"Father Name:\",father_name)\n",
    "    print(\"Roll No:\",roll_no)\n",
    "    print(\"\\t\\t\")\n",
    "    print(\"SUBJECTS\",\"\\t\\t\",\"OBTAIN MARKS\")\n",
    "    print(\"\\t\\t\")\n",
    "    print(\"Math\",\"\\t\\t\\t\",sub_1)\n",
    "    print(\"Chemistry\",\"\\t\\t\",sub_2)\n",
    "    print(\"Physics\",\"\\t\\t\",sub_3)\n",
    "    print(\"Urdu\",\"\\t\\t\\t\",sub_4)\n",
    "    print(\"Islamiat\",\"\\t\\t\",sub_5)\n",
    "    print(\"\\t\\t\")\n",
    "    if percentage >79:\n",
    "        print(\"Great is: A+\")\n",
    "    else:\n",
    "        print(\"Great is:A\")\n",
    "    print(\"Percentage:\",percentage,'%')\n",
    "mark_sheet()"
   ]
  },
  {
   "cell_type": "code",
   "execution_count": null,
   "metadata": {},
   "outputs": [],
   "source": []
  }
 ],
 "metadata": {
  "kernelspec": {
   "display_name": "Python 3",
   "language": "python",
   "name": "python3"
  },
  "language_info": {
   "codemirror_mode": {
    "name": "ipython",
    "version": 3
   },
   "file_extension": ".py",
   "mimetype": "text/x-python",
   "name": "python",
   "nbconvert_exporter": "python",
   "pygments_lexer": "ipython3",
   "version": "3.7.4"
  }
 },
 "nbformat": 4,
 "nbformat_minor": 2
}
